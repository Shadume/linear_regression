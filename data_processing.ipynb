{
 "cells": [
  {
   "cell_type": "code",
   "execution_count": 17,
   "metadata": {},
   "outputs": [],
   "source": [
    "import pandas as pd\n",
    "import numpy as np\n",
    "from sklearn.linear_model import LinearRegression\n",
    "from sklearn.model_selection import train_test_split\n",
    "from sklearn.metrics import r2_score, mean_squared_error, mean_absolute_error\n",
    "import pickle\n",
    "from sklearn.ensemble import RandomForestRegressor\n",
    "from sklearn.model_selection import GridSearchCV"
   ]
  },
  {
   "attachments": {},
   "cell_type": "markdown",
   "metadata": {},
   "source": [
    "Récupération des données du csv et traitement, nettoyage, tri...\n",
    "Modification des données pour qu'elles soient toutes numériques, pour pouvoir les traiter en machine learning"
   ]
  },
  {
   "cell_type": "code",
   "execution_count": 33,
   "metadata": {},
   "outputs": [
    {
     "name": "stdout",
     "output_type": "stream",
     "text": [
      "['alfa-romeo' 'audi' 'bmw' 'chevrolet' 'dodge' 'honda' 'isuzu' 'jaguar'\n",
      " 'mazda' 'buick' 'mercury' 'mitsubishi' 'nissan' 'peugeot' 'plymouth'\n",
      " 'porsche' 'renault' 'saab' 'subaru' 'toyota' 'volkswagen' 'volvo']\n"
     ]
    },
    {
     "name": "stderr",
     "output_type": "stream",
     "text": [
      "/tmp/ipykernel_24654/1040199592.py:2: FutureWarning: In a future version of pandas all arguments of StringMethods.split except for the argument 'pat' will be keyword-only.\n",
      "  df[['marque', 'modele']] = df[\"CarName\"].str.split(' ', 1, expand=True)\n"
     ]
    },
    {
     "data": {
      "text/html": [
       "<div>\n",
       "<style scoped>\n",
       "    .dataframe tbody tr th:only-of-type {\n",
       "        vertical-align: middle;\n",
       "    }\n",
       "\n",
       "    .dataframe tbody tr th {\n",
       "        vertical-align: top;\n",
       "    }\n",
       "\n",
       "    .dataframe thead th {\n",
       "        text-align: right;\n",
       "    }\n",
       "</style>\n",
       "<table border=\"1\" class=\"dataframe\">\n",
       "  <thead>\n",
       "    <tr style=\"text-align: right;\">\n",
       "      <th></th>\n",
       "      <th>carburant</th>\n",
       "      <th>turbo</th>\n",
       "      <th>type_vehicule</th>\n",
       "      <th>roues_motrices</th>\n",
       "      <th>emplacement_moteur</th>\n",
       "      <th>empattement</th>\n",
       "      <th>longueur</th>\n",
       "      <th>largeur</th>\n",
       "      <th>hauteur</th>\n",
       "      <th>poids</th>\n",
       "      <th>type_moteur</th>\n",
       "      <th>nombre_cylindres</th>\n",
       "      <th>taille_moteur</th>\n",
       "      <th>systeme_carburant</th>\n",
       "      <th>taux_alesage</th>\n",
       "      <th>chevaux</th>\n",
       "      <th>consommation_ville</th>\n",
       "      <th>consommation_autoroute</th>\n",
       "      <th>prix</th>\n",
       "      <th>marque</th>\n",
       "    </tr>\n",
       "  </thead>\n",
       "  <tbody>\n",
       "    <tr>\n",
       "      <th>0</th>\n",
       "      <td>0</td>\n",
       "      <td>0</td>\n",
       "      <td>0</td>\n",
       "      <td>0</td>\n",
       "      <td>0</td>\n",
       "      <td>225.044</td>\n",
       "      <td>428.752</td>\n",
       "      <td>162.814</td>\n",
       "      <td>123.952</td>\n",
       "      <td>1155.753359</td>\n",
       "      <td>0</td>\n",
       "      <td>4</td>\n",
       "      <td>2130.318329</td>\n",
       "      <td>0</td>\n",
       "      <td>88.138</td>\n",
       "      <td>111</td>\n",
       "      <td>8.928024</td>\n",
       "      <td>11.478888</td>\n",
       "      <td>13495.0</td>\n",
       "      <td>0</td>\n",
       "    </tr>\n",
       "    <tr>\n",
       "      <th>1</th>\n",
       "      <td>0</td>\n",
       "      <td>0</td>\n",
       "      <td>0</td>\n",
       "      <td>0</td>\n",
       "      <td>0</td>\n",
       "      <td>225.044</td>\n",
       "      <td>428.752</td>\n",
       "      <td>162.814</td>\n",
       "      <td>123.952</td>\n",
       "      <td>1155.753359</td>\n",
       "      <td>0</td>\n",
       "      <td>4</td>\n",
       "      <td>2130.318329</td>\n",
       "      <td>0</td>\n",
       "      <td>88.138</td>\n",
       "      <td>111</td>\n",
       "      <td>8.928024</td>\n",
       "      <td>11.478888</td>\n",
       "      <td>16500.0</td>\n",
       "      <td>0</td>\n",
       "    </tr>\n",
       "    <tr>\n",
       "      <th>2</th>\n",
       "      <td>0</td>\n",
       "      <td>0</td>\n",
       "      <td>1</td>\n",
       "      <td>0</td>\n",
       "      <td>0</td>\n",
       "      <td>240.030</td>\n",
       "      <td>434.848</td>\n",
       "      <td>166.370</td>\n",
       "      <td>133.096</td>\n",
       "      <td>1280.491261</td>\n",
       "      <td>1</td>\n",
       "      <td>6</td>\n",
       "      <td>2490.833739</td>\n",
       "      <td>0</td>\n",
       "      <td>68.072</td>\n",
       "      <td>154</td>\n",
       "      <td>8.077736</td>\n",
       "      <td>11.053744</td>\n",
       "      <td>16500.0</td>\n",
       "      <td>0</td>\n",
       "    </tr>\n",
       "    <tr>\n",
       "      <th>3</th>\n",
       "      <td>0</td>\n",
       "      <td>0</td>\n",
       "      <td>2</td>\n",
       "      <td>2</td>\n",
       "      <td>0</td>\n",
       "      <td>253.492</td>\n",
       "      <td>448.564</td>\n",
       "      <td>168.148</td>\n",
       "      <td>137.922</td>\n",
       "      <td>1060.045369</td>\n",
       "      <td>2</td>\n",
       "      <td>4</td>\n",
       "      <td>1786.189984</td>\n",
       "      <td>0</td>\n",
       "      <td>81.026</td>\n",
       "      <td>102</td>\n",
       "      <td>10.203456</td>\n",
       "      <td>12.754320</td>\n",
       "      <td>13950.0</td>\n",
       "      <td>1</td>\n",
       "    </tr>\n",
       "    <tr>\n",
       "      <th>4</th>\n",
       "      <td>0</td>\n",
       "      <td>0</td>\n",
       "      <td>2</td>\n",
       "      <td>1</td>\n",
       "      <td>0</td>\n",
       "      <td>252.476</td>\n",
       "      <td>448.564</td>\n",
       "      <td>168.656</td>\n",
       "      <td>137.922</td>\n",
       "      <td>1280.944853</td>\n",
       "      <td>2</td>\n",
       "      <td>5</td>\n",
       "      <td>2228.640713</td>\n",
       "      <td>0</td>\n",
       "      <td>81.026</td>\n",
       "      <td>115</td>\n",
       "      <td>7.652592</td>\n",
       "      <td>9.353168</td>\n",
       "      <td>17450.0</td>\n",
       "      <td>1</td>\n",
       "    </tr>\n",
       "  </tbody>\n",
       "</table>\n",
       "</div>"
      ],
      "text/plain": [
       "   carburant  turbo  type_vehicule  roues_motrices  emplacement_moteur  \\\n",
       "0          0      0              0               0                   0   \n",
       "1          0      0              0               0                   0   \n",
       "2          0      0              1               0                   0   \n",
       "3          0      0              2               2                   0   \n",
       "4          0      0              2               1                   0   \n",
       "\n",
       "   empattement  longueur  largeur  hauteur        poids  type_moteur  \\\n",
       "0      225.044   428.752  162.814  123.952  1155.753359            0   \n",
       "1      225.044   428.752  162.814  123.952  1155.753359            0   \n",
       "2      240.030   434.848  166.370  133.096  1280.491261            1   \n",
       "3      253.492   448.564  168.148  137.922  1060.045369            2   \n",
       "4      252.476   448.564  168.656  137.922  1280.944853            2   \n",
       "\n",
       "   nombre_cylindres  taille_moteur  systeme_carburant  taux_alesage  chevaux  \\\n",
       "0                 4    2130.318329                  0        88.138      111   \n",
       "1                 4    2130.318329                  0        88.138      111   \n",
       "2                 6    2490.833739                  0        68.072      154   \n",
       "3                 4    1786.189984                  0        81.026      102   \n",
       "4                 5    2228.640713                  0        81.026      115   \n",
       "\n",
       "   consommation_ville  consommation_autoroute     prix  marque  \n",
       "0            8.928024               11.478888  13495.0       0  \n",
       "1            8.928024               11.478888  16500.0       0  \n",
       "2            8.077736               11.053744  16500.0       0  \n",
       "3           10.203456               12.754320  13950.0       1  \n",
       "4            7.652592                9.353168  17450.0       1  "
      ]
     },
     "execution_count": 33,
     "metadata": {},
     "output_type": "execute_result"
    }
   ],
   "source": [
    "df = pd.read_csv(\"csv/carprice.csv\")\n",
    "df[['marque', 'modele']] = df[\"CarName\"].str.split(' ', 1, expand=True)\n",
    "df = df.drop([\"car_ID\", \"symboling\", \"CarName\", \"doornumber\", \"stroke\", \"compressionratio\", \"peakrpm\", \"modele\"], axis=1)\n",
    "df.rename(columns={\n",
    "    \"fueltype\": \"carburant\",\n",
    "    \"aspiration\": \"turbo\",\n",
    "    \"carbody\": \"type_vehicule\",\n",
    "    \"drivewheel\": \"roues_motrices\",\n",
    "    \"enginelocation\": \"emplacement_moteur\",\n",
    "    \"wheelbase\": \"empattement\",\n",
    "    \"carlength\": \"longueur\",\n",
    "    \"carwidth\": \"largeur\",\n",
    "    \"carheight\": \"hauteur\",\n",
    "    \"curbweight\": \"poids\",\n",
    "    \"enginetype\": \"type_moteur\",\n",
    "    \"cylindernumber\": \"nombre_cylindres\",\n",
    "    \"enginesize\": \"taille_moteur\",\n",
    "    \"fuelsystem\": \"systeme_carburant\",\n",
    "    \"boreratio\": \"taux_alesage\",\n",
    "    \"horsepower\": \"chevaux\",\n",
    "    \"citympg\": \"consommation_ville\",\n",
    "    \"highwaympg\": \"consommation_autoroute\",\n",
    "    \"price\": \"prix\"\n",
    "}, inplace=True)\n",
    "marque_dict = {\n",
    "    'alfa-romero': 'alfa-romeo',\n",
    "    'maxda': 'mazda',\n",
    "    'porcshce': 'porsche',\n",
    "    'toyouta': 'toyota',\n",
    "    'vokswagen': 'volkswagen',\n",
    "    'vw': 'volkswagen',\n",
    "    'Nissan': 'nissan'\n",
    "}\n",
    "df['marque'] = df['marque'].replace(marque_dict, regex=True)\n",
    "df['carburant'].replace(['gas', 'diesel'], [0, 1], inplace=True)\n",
    "df['turbo'].replace(['std', 'turbo'], [0, 1], inplace=True)\n",
    "liste_vehicule = df['type_vehicule'].unique()\n",
    "df['type_vehicule'].replace(liste_vehicule, list(range(0,5)), inplace=True)\n",
    "df['roues_motrices'].replace(['rwd', '4wd', 'fwd'], [0, 1, 2], inplace=True)\n",
    "df['emplacement_moteur'].replace(['front', 'rear'], [0, 1], inplace=True)\n",
    "df['empattement'] = df['empattement']*2.54\n",
    "df['longueur'] = df['longueur']*2.54\n",
    "df['largeur'] = df['largeur']*2.54\n",
    "df['hauteur'] = df['hauteur']*2.54\n",
    "df['poids'] = df['poids']*0.45359237\n",
    "liste_moteur = df['type_moteur'].unique()\n",
    "df['type_moteur'].replace(liste_moteur,list(range(0,7)), inplace=True)\n",
    "cylindre_dict = {\n",
    "    \"two\": 2,\n",
    "    \"three\": 3,\n",
    "    \"four\": 4,\n",
    "    \"five\": 5,\n",
    "    \"six\": 6,\n",
    "    \"eight\": 8,\n",
    "    \"twelve\": 12,\n",
    "}\n",
    "df['nombre_cylindres'] = df['nombre_cylindres'].replace(cylindre_dict, regex=True)\n",
    "df['taille_moteur'] = df['taille_moteur']*16.3870640693\n",
    "liste_carburant = df['systeme_carburant'].unique()\n",
    "df['systeme_carburant'].replace(liste_carburant, list(range(0,8)), inplace=True)\n",
    "df['taux_alesage'] = df['taux_alesage']*25.4\n",
    "df['consommation_ville'] = df['consommation_ville']*0.425144\n",
    "df['consommation_autoroute'] = df['consommation_autoroute']*0.425144\n",
    "liste_marque = df[\"marque\"].unique()\n",
    "print(liste_marque)\n",
    "df['marque'].replace(liste_marque, list(range(0,22)), inplace=True)\n",
    "df.head()"
   ]
  },
  {
   "attachments": {},
   "cell_type": "markdown",
   "metadata": {},
   "source": [
    "Création et test d'un premier modèle de machine learning avec la régression linéaire"
   ]
  },
  {
   "cell_type": "code",
   "execution_count": 14,
   "metadata": {},
   "outputs": [
    {
     "name": "stdout",
     "output_type": "stream",
     "text": [
      "R² score: 0.86\n",
      "MSE: 10944937.47\n"
     ]
    }
   ],
   "source": [
    "# y = df['prix']\n",
    "# X = df.drop('prix', axis=1)\n",
    "\n",
    "# X_train, X_test, y_train, y_test = train_test_split(X, y, test_size=0.2, random_state=42)\n",
    "\n",
    "# model = LinearRegression()\n",
    "# model.fit(X_train, y_train)\n",
    "\n",
    "# y_pred = model.predict(X_test)\n",
    "\n",
    "# r2 = r2_score(y_test, y_pred)\n",
    "# mse = mean_squared_error(y_test, y_pred)\n",
    "# print(f\"R² score: {r2:.2f}\")\n",
    "# print(f\"MSE: {mse:.2f}\")"
   ]
  },
  {
   "attachments": {},
   "cell_type": "markdown",
   "metadata": {},
   "source": [
    "Definition pour faire une prédiction"
   ]
  },
  {
   "cell_type": "code",
   "execution_count": 34,
   "metadata": {},
   "outputs": [
    {
     "name": "stdout",
     "output_type": "stream",
     "text": [
      "Overwriting price_calc.py\n"
     ]
    }
   ],
   "source": [
    "%%writefile price_calc.py\n",
    "import numpy as np\n",
    "\n",
    "def price_calc(model, carburant, turbo, type_vehicule, roues_motrices, emplacement_moteur, empattement, longueur, largeur, hauteur, poids, type_moteur, nombre_cylindres, taille_moteur, systeme_carburant, taux_alesage, chevaux, consommation_ville, consommation_autoroute, marque):\n",
    "    x = np.array([carburant, turbo, type_vehicule, roues_motrices, emplacement_moteur, empattement, longueur, largeur, hauteur, poids, type_moteur, nombre_cylindres, taille_moteur, systeme_carburant, taux_alesage, chevaux, consommation_ville, consommation_autoroute, marque]).reshape(1, 19)\n",
    "    price = model.predict(x)\n",
    "    return int(price)"
   ]
  },
  {
   "attachments": {},
   "cell_type": "markdown",
   "metadata": {},
   "source": [
    "Création et test d'un autre modèle avec RandomForestRegressor"
   ]
  },
  {
   "cell_type": "code",
   "execution_count": 19,
   "metadata": {},
   "outputs": [
    {
     "name": "stdout",
     "output_type": "stream",
     "text": [
      "R² score: 0.96\n",
      "MSE: 3437161.72\n",
      "MAE: 1304.50\n",
      "RMSE: 1853.96\n"
     ]
    }
   ],
   "source": [
    "y = df['prix']\n",
    "X = df.drop('prix', axis=1)\n",
    "\n",
    "X_train, X_test, y_train, y_test = train_test_split(X, y, test_size=0.2, random_state=42)\n",
    "\n",
    "model = RandomForestRegressor(n_estimators=100, random_state=42)\n",
    "model.fit(X_train, y_train)\n",
    "\n",
    "y_pred = model.predict(X_test)\n",
    "\n",
    "r2 = r2_score(y_test, y_pred)\n",
    "mse = mean_squared_error(y_test, y_pred)\n",
    "mae = mean_absolute_error(y_test, y_pred)\n",
    "rmse = np.sqrt(mean_squared_error(y_test, y_pred))\n",
    "print(f\"R² score: {r2:.2f}\")\n",
    "print(f\"MSE: {mse:.2f}\")\n",
    "print(f\"MAE: {mae:.2f}\")\n",
    "print(f\"RMSE: {rmse:.2f}\")"
   ]
  },
  {
   "attachments": {},
   "cell_type": "markdown",
   "metadata": {},
   "source": [
    "Création d'une courbe d'apprentissage sur le modèle"
   ]
  },
  {
   "cell_type": "code",
   "execution_count": 20,
   "metadata": {},
   "outputs": [
    {
     "name": "stdout",
     "output_type": "stream",
     "text": [
      "[ 13  26  39  52  65  78  91 104 117 131]\n"
     ]
    },
    {
     "data": {
      "text/plain": [
       "<matplotlib.legend.Legend at 0x7f6d58f45490>"
      ]
     },
     "execution_count": 20,
     "metadata": {},
     "output_type": "execute_result"
    },
    {
     "data": {
      "image/png": "[encoded data removed]",
      "text/plain": [
       "<Figure size 640x480 with 1 Axes>"
      ]
     },
     "metadata": {},
     "output_type": "display_data"
    }
   ],
   "source": [
    "from sklearn.model_selection import learning_curve\n",
    "import matplotlib.pyplot as plt\n",
    "\n",
    "N, train_score, val_score = learning_curve(model, X_train, y_train, train_sizes=np.linspace(0.1,1.0,10), cv=5)\n",
    "\n",
    "print(N)\n",
    "plt.plot(N, train_score.mean(axis=1), label='train')\n",
    "plt.plot(N, val_score.mean(axis=1), label='validation')\n",
    "plt.xlabel('train_sizes')\n",
    "plt.legend()"
   ]
  },
  {
   "attachments": {},
   "cell_type": "markdown",
   "metadata": {},
   "source": [
    "Utilisation de GridSearchCV pour trouver les meilleurs paramètres à exploiter"
   ]
  },
  {
   "cell_type": "code",
   "execution_count": 24,
   "metadata": {},
   "outputs": [
    {
     "data": {
      "text/plain": [
       "0.9108384383898777"
      ]
     },
     "execution_count": 24,
     "metadata": {},
     "output_type": "execute_result"
    }
   ],
   "source": [
    "param_grid = {'n_estimators': [50, 100, 200, 500],\n",
    "    'max_depth': [5, 10, 15],\n",
    "    'max_features': ['sqrt', 'log2']}\n",
    "\n",
    "grid = GridSearchCV(RandomForestRegressor(), param_grid, cv=5)\n",
    "\n",
    "grid.fit(X_train, y_train)\n",
    "grid.best_score_"
   ]
  },
  {
   "attachments": {},
   "cell_type": "markdown",
   "metadata": {},
   "source": [
    "Liste des meilleurs paramètres parmis ceux testés"
   ]
  },
  {
   "cell_type": "code",
   "execution_count": 25,
   "metadata": {},
   "outputs": [
    {
     "data": {
      "text/plain": [
       "{'max_depth': 10, 'max_features': 'sqrt', 'n_estimators': 100}"
      ]
     },
     "execution_count": 25,
     "metadata": {},
     "output_type": "execute_result"
    }
   ],
   "source": [
    "grid.best_params_"
   ]
  },
  {
   "attachments": {},
   "cell_type": "markdown",
   "metadata": {},
   "source": [
    "Création du nouveau modèle sur la base des paramètres trouvés plus tôt"
   ]
  },
  {
   "cell_type": "code",
   "execution_count": 29,
   "metadata": {},
   "outputs": [],
   "source": [
    "model = grid.best_estimator_\n",
    "model.score(X_test, y_test)\n",
    "\n",
    "model = RandomForestRegressor(**grid.best_params_)\n",
    "model.fit(X_train, y_train)\n",
    "\n",
    "with open('modele.pkl', 'wb') as f:\n",
    "    pickle.dump(model, f) "
   ]
  }
 ],
 "metadata": {
  "kernelspec": {
   "display_name": "sklearn-env",
   "language": "python",
   "name": "python3"
  },
  "language_info": {
   "codemirror_mode": {
    "name": "ipython",
    "version": 3
   },
   "file_extension": ".py",
   "mimetype": "text/x-python",
   "name": "python",
   "nbconvert_exporter": "python",
   "pygments_lexer": "ipython3",
   "version": "3.11.3"
  },
  "orig_nbformat": 4,
  "vscode": {
   "interpreter": {
    "hash": "28ff26c65758d064959116f1d9c8fbca26d00c18c6d798db5e6a86c21bd645e4"
   }
  }
 },
 "nbformat": 4,
 "nbformat_minor": 2
}
